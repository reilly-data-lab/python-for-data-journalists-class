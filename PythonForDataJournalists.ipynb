{
 "cells": [
  {
   "cell_type": "markdown",
   "metadata": {},
   "source": [
    "# Notebook for Python for Data Journalists class\n",
    "\n",
    "Hello world!"
   ]
  },
  {
   "cell_type": "code",
   "execution_count": null,
   "metadata": {
    "collapsed": true
   },
   "outputs": [],
   "source": [
    "import pandas as pd"
   ]
  },
  {
   "cell_type": "code",
   "execution_count": 127,
   "metadata": {
    "collapsed": false
   },
   "outputs": [],
   "source": [
    "props = pd.read_csv(\"http://www.firstpythonnotebook.org/_static/committees.csv\")"
   ]
  },
  {
   "cell_type": "code",
   "execution_count": 128,
   "metadata": {
    "collapsed": false
   },
   "outputs": [
    {
     "data": {
      "text/html": [
       "<div style=\"max-height:1000px;max-width:1500px;overflow:auto;\">\n",
       "<table border=\"1\" class=\"dataframe\">\n",
       "  <thead>\n",
       "    <tr style=\"text-align: right;\">\n",
       "      <th></th>\n",
       "      <th>ocd_prop_id</th>\n",
       "      <th>calaccess_prop_id</th>\n",
       "      <th>ccdc_prop_id</th>\n",
       "      <th>prop_name</th>\n",
       "      <th>ccdc_committee_id</th>\n",
       "      <th>calaccess_committee_id</th>\n",
       "      <th>committee_name</th>\n",
       "      <th>committee_position</th>\n",
       "    </tr>\n",
       "  </thead>\n",
       "  <tbody>\n",
       "    <tr>\n",
       "      <th>0</th>\n",
       "      <td> ocd-contest/b51dc64d-3562-4913-a190-69f5088c22a6</td>\n",
       "      <td> 1376258</td>\n",
       "      <td> 70</td>\n",
       "      <td> PROPOSITION 051 - SCHOOL BONDS. FUNDING FOR K-...</td>\n",
       "      <td> 382</td>\n",
       "      <td> 1374469</td>\n",
       "      <td> YES ON PROPOSITION 51 - CALIFORNIANS FOR QUALI...</td>\n",
       "      <td> SUPPORT</td>\n",
       "    </tr>\n",
       "  </tbody>\n",
       "</table>\n",
       "</div>"
      ],
      "text/plain": [
       "                                        ocd_prop_id  calaccess_prop_id  \\\n",
       "0  ocd-contest/b51dc64d-3562-4913-a190-69f5088c22a6            1376258   \n",
       "\n",
       "   ccdc_prop_id                                          prop_name  \\\n",
       "0            70  PROPOSITION 051 - SCHOOL BONDS. FUNDING FOR K-...   \n",
       "\n",
       "   ccdc_committee_id  calaccess_committee_id  \\\n",
       "0                382                 1374469   \n",
       "\n",
       "                                      committee_name committee_position  \n",
       "0  YES ON PROPOSITION 51 - CALIFORNIANS FOR QUALI...            SUPPORT  "
      ]
     },
     "execution_count": 128,
     "metadata": {},
     "output_type": "execute_result"
    }
   ],
   "source": [
    "props.head(1)"
   ]
  },
  {
   "cell_type": "code",
   "execution_count": 129,
   "metadata": {
    "collapsed": false
   },
   "outputs": [
    {
     "name": "stdout",
     "output_type": "stream",
     "text": [
      "<class 'pandas.core.frame.DataFrame'>\n",
      "Int64Index: 102 entries, 0 to 101\n",
      "Data columns (total 8 columns):\n",
      "ocd_prop_id               102 non-null object\n",
      "calaccess_prop_id         102 non-null int64\n",
      "ccdc_prop_id              102 non-null int64\n",
      "prop_name                 102 non-null object\n",
      "ccdc_committee_id         102 non-null int64\n",
      "calaccess_committee_id    102 non-null int64\n",
      "committee_name            102 non-null object\n",
      "committee_position        102 non-null object\n",
      "dtypes: int64(4), object(4)"
     ]
    }
   ],
   "source": [
    "props.info()"
   ]
  },
  {
   "cell_type": "code",
   "execution_count": 130,
   "metadata": {
    "collapsed": false
   },
   "outputs": [],
   "source": [
    "contribs = pd.read_csv(\"http://www.firstpythonnotebook.org/_static/contributions.csv\")"
   ]
  },
  {
   "cell_type": "code",
   "execution_count": 131,
   "metadata": {
    "collapsed": false,
    "scrolled": true
   },
   "outputs": [
    {
     "data": {
      "text/html": [
       "<div style=\"max-height:1000px;max-width:1500px;overflow:auto;\">\n",
       "<table border=\"1\" class=\"dataframe\">\n",
       "  <thead>\n",
       "    <tr style=\"text-align: right;\">\n",
       "      <th></th>\n",
       "      <th>calaccess_committee_id</th>\n",
       "      <th>committee_name</th>\n",
       "      <th>calaccess_filing_id</th>\n",
       "      <th>date_received</th>\n",
       "      <th>contributor_lastname</th>\n",
       "      <th>contributor_firstname</th>\n",
       "      <th>contributor_city</th>\n",
       "      <th>contributor_state</th>\n",
       "      <th>contributor_zip</th>\n",
       "      <th>contributor_employer</th>\n",
       "      <th>contributor_occupation</th>\n",
       "      <th>contributor_is_self_employed</th>\n",
       "      <th>amount</th>\n",
       "    </tr>\n",
       "  </thead>\n",
       "  <tbody>\n",
       "    <tr>\n",
       "      <th>0</th>\n",
       "      <td> 1386560</td>\n",
       "      <td> ADULT USE CAMPAIGN FOR PROPOSITION 64; THE</td>\n",
       "      <td> 2083796</td>\n",
       "      <td> 2016-09-18</td>\n",
       "      <td>         BERGMAN</td>\n",
       "      <td>  GRETCHEN</td>\n",
       "      <td> SPRING VALLEY</td>\n",
       "      <td> CA</td>\n",
       "      <td> 91978</td>\n",
       "      <td>                A NEW PATH</td>\n",
       "      <td>  EXECUTIVE DIRECTOR</td>\n",
       "      <td> False</td>\n",
       "      <td>  84</td>\n",
       "    </tr>\n",
       "    <tr>\n",
       "      <th>1</th>\n",
       "      <td> 1386560</td>\n",
       "      <td> ADULT USE CAMPAIGN FOR PROPOSITION 64; THE</td>\n",
       "      <td> 2083796</td>\n",
       "      <td> 2016-09-18</td>\n",
       "      <td>           KAHLE</td>\n",
       "      <td>     MYRNA</td>\n",
       "      <td>     SAN DIEGO</td>\n",
       "      <td> CA</td>\n",
       "      <td> 92109</td>\n",
       "      <td>  NATIONAL SCHOOL DISTRICT</td>\n",
       "      <td>             TEACHER</td>\n",
       "      <td> False</td>\n",
       "      <td>  35</td>\n",
       "    </tr>\n",
       "    <tr>\n",
       "      <th>2</th>\n",
       "      <td> 1386560</td>\n",
       "      <td> ADULT USE CAMPAIGN FOR PROPOSITION 64; THE</td>\n",
       "      <td> 2083796</td>\n",
       "      <td> 2016-07-15</td>\n",
       "      <td>        MCDEVITT</td>\n",
       "      <td>       LEO</td>\n",
       "      <td>     ESCONDIDO</td>\n",
       "      <td> CA</td>\n",
       "      <td> 92025</td>\n",
       "      <td>             LIFE IONIZERS</td>\n",
       "      <td> SEO/CONTENT MANAGER</td>\n",
       "      <td> False</td>\n",
       "      <td> 198</td>\n",
       "    </tr>\n",
       "    <tr>\n",
       "      <th>3</th>\n",
       "      <td> 1386560</td>\n",
       "      <td> ADULT USE CAMPAIGN FOR PROPOSITION 64; THE</td>\n",
       "      <td> 2083796</td>\n",
       "      <td> 2016-08-10</td>\n",
       "      <td> WARREN-SAMARIPA</td>\n",
       "      <td> STEPHANIE</td>\n",
       "      <td>     SAN DIEGO</td>\n",
       "      <td> CA</td>\n",
       "      <td> 92116</td>\n",
       "      <td> STEPHANIE WARREN SAMARIPA</td>\n",
       "      <td>        ENTREPRENEUR</td>\n",
       "      <td> False</td>\n",
       "      <td> -50</td>\n",
       "    </tr>\n",
       "    <tr>\n",
       "      <th>4</th>\n",
       "      <td> 1386560</td>\n",
       "      <td> ADULT USE CAMPAIGN FOR PROPOSITION 64; THE</td>\n",
       "      <td> 2083796</td>\n",
       "      <td> 2016-07-26</td>\n",
       "      <td> WARREN-SAMARIPA</td>\n",
       "      <td> STEPHANIE</td>\n",
       "      <td>     SAN DIEGO</td>\n",
       "      <td> CA</td>\n",
       "      <td> 92116</td>\n",
       "      <td> STEPHANIE WARREN SAMARIPA</td>\n",
       "      <td>        ENTREPRENEUR</td>\n",
       "      <td>  True</td>\n",
       "      <td>  50</td>\n",
       "    </tr>\n",
       "  </tbody>\n",
       "</table>\n",
       "</div>"
      ],
      "text/plain": [
       "   calaccess_committee_id                              committee_name  \\\n",
       "0                 1386560  ADULT USE CAMPAIGN FOR PROPOSITION 64; THE   \n",
       "1                 1386560  ADULT USE CAMPAIGN FOR PROPOSITION 64; THE   \n",
       "2                 1386560  ADULT USE CAMPAIGN FOR PROPOSITION 64; THE   \n",
       "3                 1386560  ADULT USE CAMPAIGN FOR PROPOSITION 64; THE   \n",
       "4                 1386560  ADULT USE CAMPAIGN FOR PROPOSITION 64; THE   \n",
       "\n",
       "   calaccess_filing_id date_received contributor_lastname  \\\n",
       "0              2083796    2016-09-18              BERGMAN   \n",
       "1              2083796    2016-09-18                KAHLE   \n",
       "2              2083796    2016-07-15             MCDEVITT   \n",
       "3              2083796    2016-08-10      WARREN-SAMARIPA   \n",
       "4              2083796    2016-07-26      WARREN-SAMARIPA   \n",
       "\n",
       "  contributor_firstname contributor_city contributor_state contributor_zip  \\\n",
       "0              GRETCHEN    SPRING VALLEY                CA           91978   \n",
       "1                 MYRNA        SAN DIEGO                CA           92109   \n",
       "2                   LEO        ESCONDIDO                CA           92025   \n",
       "3             STEPHANIE        SAN DIEGO                CA           92116   \n",
       "4             STEPHANIE        SAN DIEGO                CA           92116   \n",
       "\n",
       "        contributor_employer contributor_occupation  \\\n",
       "0                 A NEW PATH     EXECUTIVE DIRECTOR   \n",
       "1   NATIONAL SCHOOL DISTRICT                TEACHER   \n",
       "2              LIFE IONIZERS    SEO/CONTENT MANAGER   \n",
       "3  STEPHANIE WARREN SAMARIPA           ENTREPRENEUR   \n",
       "4  STEPHANIE WARREN SAMARIPA           ENTREPRENEUR   \n",
       "\n",
       "  contributor_is_self_employed  amount  \n",
       "0                        False      84  \n",
       "1                        False      35  \n",
       "2                        False     198  \n",
       "3                        False     -50  \n",
       "4                         True      50  "
      ]
     },
     "execution_count": 131,
     "metadata": {},
     "output_type": "execute_result"
    }
   ],
   "source": [
    "contribs.head()"
   ]
  },
  {
   "cell_type": "code",
   "execution_count": 132,
   "metadata": {
    "collapsed": false,
    "scrolled": true
   },
   "outputs": [
    {
     "name": "stdout",
     "output_type": "stream",
     "text": [
      "<class 'pandas.core.frame.DataFrame'>\n",
      "Int64Index: 56379 entries, 0 to 56378\n",
      "Data columns (total 13 columns):\n",
      "calaccess_committee_id          56379 non-null int64\n",
      "committee_name                  56379 non-null object\n",
      "calaccess_filing_id             56379 non-null int64\n",
      "date_received                   56379 non-null object\n",
      "contributor_lastname            56375 non-null object\n",
      "contributor_firstname           53411 non-null object\n",
      "contributor_city                56369 non-null object\n",
      "contributor_state               56363 non-null object\n",
      "contributor_zip                 56366 non-null object\n",
      "contributor_employer            48572 non-null object\n",
      "contributor_occupation          53273 non-null object\n",
      "contributor_is_self_employed    56379 non-null bool\n",
      "amount                          56379 non-null float64\n",
      "dtypes: bool(1), float64(1), int64(2), object(9)"
     ]
    }
   ],
   "source": [
    "contribs.info()"
   ]
  },
  {
   "cell_type": "markdown",
   "metadata": {},
   "source": [
    "# Lists the names of all propositions\n",
    "There were 17 propositions"
   ]
  },
  {
   "cell_type": "code",
   "execution_count": 135,
   "metadata": {
    "collapsed": false,
    "scrolled": true
   },
   "outputs": [
    {
     "data": {
      "text/html": [
       "<div style=\"max-height:1000px;max-width:1500px;overflow:auto;\">\n",
       "<table border=\"1\" class=\"dataframe\">\n",
       "  <thead>\n",
       "    <tr style=\"text-align: right;\">\n",
       "      <th></th>\n",
       "      <th>index</th>\n",
       "      <th>0</th>\n",
       "    </tr>\n",
       "  </thead>\n",
       "  <tbody>\n",
       "    <tr>\n",
       "      <th>0 </th>\n",
       "      <td> PROPOSITION 057 - CRIMINAL SENTENCES. JUVENILE...</td>\n",
       "      <td> 13</td>\n",
       "    </tr>\n",
       "    <tr>\n",
       "      <th>1 </th>\n",
       "      <td> PROPOSITION 056 - CIGARETTE TAX TO FUND HEALTH...</td>\n",
       "      <td> 12</td>\n",
       "    </tr>\n",
       "    <tr>\n",
       "      <th>2 </th>\n",
       "      <td> PROPOSITION 064- MARIJUANA LEGALIZATION. INITI...</td>\n",
       "      <td> 11</td>\n",
       "    </tr>\n",
       "    <tr>\n",
       "      <th>3 </th>\n",
       "      <td> PROPOSITION 066- DEATH PENALTY. PROCEDURES. IN...</td>\n",
       "      <td>  9</td>\n",
       "    </tr>\n",
       "    <tr>\n",
       "      <th>4 </th>\n",
       "      <td> PROPOSITION 055 - TAX EXTENSION TO FUND EDUCAT...</td>\n",
       "      <td>  8</td>\n",
       "    </tr>\n",
       "    <tr>\n",
       "      <th>5 </th>\n",
       "      <td> PROPOSITION 067- REFERENDUM TO OVERTURN BAN ON...</td>\n",
       "      <td>  7</td>\n",
       "    </tr>\n",
       "    <tr>\n",
       "      <th>6 </th>\n",
       "      <td> PROPOSITION 062- DEATH PENALTY. INITIATIVE STA...</td>\n",
       "      <td>  7</td>\n",
       "    </tr>\n",
       "    <tr>\n",
       "      <th>7 </th>\n",
       "      <td> PROPOSITION 059- SB 254 (CHAPTER 20, STATUTES ...</td>\n",
       "      <td>  6</td>\n",
       "    </tr>\n",
       "    <tr>\n",
       "      <th>8 </th>\n",
       "      <td> PROPOSITION 053 - REVENUE BONDS. STATEWIDE VOT...</td>\n",
       "      <td>  4</td>\n",
       "    </tr>\n",
       "    <tr>\n",
       "      <th>9 </th>\n",
       "      <td> PROPOSITION 054 - LEGISLATURE. LEGISLATION AND...</td>\n",
       "      <td>  4</td>\n",
       "    </tr>\n",
       "    <tr>\n",
       "      <th>10</th>\n",
       "      <td> PROPOSITION 058 - SB 1174 (CHAPTER 753, STATUT...</td>\n",
       "      <td>  4</td>\n",
       "    </tr>\n",
       "    <tr>\n",
       "      <th>11</th>\n",
       "      <td> PROPOSITION 063- FIREARMS. AMMUNITION SALES. I...</td>\n",
       "      <td>  4</td>\n",
       "    </tr>\n",
       "    <tr>\n",
       "      <th>12</th>\n",
       "      <td> PROPOSITION 051 - SCHOOL BONDS. FUNDING FOR K-...</td>\n",
       "      <td>  4</td>\n",
       "    </tr>\n",
       "    <tr>\n",
       "      <th>13</th>\n",
       "      <td> PROPOSITION 052 - STATE FEES ON HOSPITALS. FED...</td>\n",
       "      <td>  3</td>\n",
       "    </tr>\n",
       "    <tr>\n",
       "      <th>14</th>\n",
       "      <td> PROPOSITION 061- STATE PRESCRIPTION DRUG PURCH...</td>\n",
       "      <td>  3</td>\n",
       "    </tr>\n",
       "    <tr>\n",
       "      <th>15</th>\n",
       "      <td> PROPOSITION 060- ADULT FILMS. CONDOMS. HEALTH ...</td>\n",
       "      <td>  2</td>\n",
       "    </tr>\n",
       "    <tr>\n",
       "      <th>16</th>\n",
       "      <td> PROPOSITION 065- CARRY-OUT BAGS. CHARGES. INIT...</td>\n",
       "      <td>  1</td>\n",
       "    </tr>\n",
       "  </tbody>\n",
       "</table>\n",
       "</div>"
      ],
      "text/plain": [
       "                                                index   0\n",
       "0   PROPOSITION 057 - CRIMINAL SENTENCES. JUVENILE...  13\n",
       "1   PROPOSITION 056 - CIGARETTE TAX TO FUND HEALTH...  12\n",
       "2   PROPOSITION 064- MARIJUANA LEGALIZATION. INITI...  11\n",
       "3   PROPOSITION 066- DEATH PENALTY. PROCEDURES. IN...   9\n",
       "4   PROPOSITION 055 - TAX EXTENSION TO FUND EDUCAT...   8\n",
       "5   PROPOSITION 067- REFERENDUM TO OVERTURN BAN ON...   7\n",
       "6   PROPOSITION 062- DEATH PENALTY. INITIATIVE STA...   7\n",
       "7   PROPOSITION 059- SB 254 (CHAPTER 20, STATUTES ...   6\n",
       "8   PROPOSITION 053 - REVENUE BONDS. STATEWIDE VOT...   4\n",
       "9   PROPOSITION 054 - LEGISLATURE. LEGISLATION AND...   4\n",
       "10  PROPOSITION 058 - SB 1174 (CHAPTER 753, STATUT...   4\n",
       "11  PROPOSITION 063- FIREARMS. AMMUNITION SALES. I...   4\n",
       "12  PROPOSITION 051 - SCHOOL BONDS. FUNDING FOR K-...   4\n",
       "13  PROPOSITION 052 - STATE FEES ON HOSPITALS. FED...   3\n",
       "14  PROPOSITION 061- STATE PRESCRIPTION DRUG PURCH...   3\n",
       "15  PROPOSITION 060- ADULT FILMS. CONDOMS. HEALTH ...   2\n",
       "16  PROPOSITION 065- CARRY-OUT BAGS. CHARGES. INIT...   1"
      ]
     },
     "execution_count": 135,
     "metadata": {},
     "output_type": "execute_result"
    }
   ],
   "source": [
    "props.prop_name.value_counts().reset_index()"
   ]
  },
  {
   "cell_type": "code",
   "execution_count": null,
   "metadata": {
    "collapsed": true
   },
   "outputs": [],
   "source": []
  },
  {
   "cell_type": "code",
   "execution_count": 136,
   "metadata": {
    "collapsed": true
   },
   "outputs": [],
   "source": [
    "prop = props[props.prop_name == 'PROPOSITION 064- MARIJUANA LEGALIZATION. INITIATIVE STATUTE.']"
   ]
  },
  {
   "cell_type": "code",
   "execution_count": 137,
   "metadata": {
    "collapsed": false,
    "scrolled": false
   },
   "outputs": [
    {
     "data": {
      "text/html": [
       "<div style=\"max-height:1000px;max-width:1500px;overflow:auto;\">\n",
       "<table border=\"1\" class=\"dataframe\">\n",
       "  <thead>\n",
       "    <tr style=\"text-align: right;\">\n",
       "      <th></th>\n",
       "      <th>ocd_prop_id</th>\n",
       "      <th>calaccess_prop_id</th>\n",
       "      <th>ccdc_prop_id</th>\n",
       "      <th>prop_name</th>\n",
       "      <th>ccdc_committee_id</th>\n",
       "      <th>calaccess_committee_id</th>\n",
       "      <th>committee_name</th>\n",
       "      <th>committee_position</th>\n",
       "    </tr>\n",
       "  </thead>\n",
       "  <tbody>\n",
       "    <tr>\n",
       "      <th>74</th>\n",
       "      <td> ocd-contest/232cb72c-1b11-4293-b4e2-a181e80d172e</td>\n",
       "      <td> 1381868</td>\n",
       "      <td> 83</td>\n",
       "      <td> PROPOSITION 064- MARIJUANA LEGALIZATION. INITI...</td>\n",
       "      <td> 456</td>\n",
       "      <td> 1381808</td>\n",
       "      <td> YES ON 64, CALIFORNIANS TO CONTROL, REGULATE A...</td>\n",
       "      <td> SUPPORT</td>\n",
       "    </tr>\n",
       "    <tr>\n",
       "      <th>75</th>\n",
       "      <td> ocd-contest/232cb72c-1b11-4293-b4e2-a181e80d172e</td>\n",
       "      <td> 1381868</td>\n",
       "      <td> 83</td>\n",
       "      <td> PROPOSITION 064- MARIJUANA LEGALIZATION. INITI...</td>\n",
       "      <td> 457</td>\n",
       "      <td> 1382525</td>\n",
       "      <td>                            NEW APPROACH PAC (MPO)</td>\n",
       "      <td> SUPPORT</td>\n",
       "    </tr>\n",
       "    <tr>\n",
       "      <th>76</th>\n",
       "      <td> ocd-contest/232cb72c-1b11-4293-b4e2-a181e80d172e</td>\n",
       "      <td> 1381868</td>\n",
       "      <td> 83</td>\n",
       "      <td> PROPOSITION 064- MARIJUANA LEGALIZATION. INITI...</td>\n",
       "      <td> 458</td>\n",
       "      <td> 1376077</td>\n",
       "      <td> CALIFORNIANS FOR SENSIBLE REFORM, SPONSORED BY...</td>\n",
       "      <td> SUPPORT</td>\n",
       "    </tr>\n",
       "    <tr>\n",
       "      <th>77</th>\n",
       "      <td> ocd-contest/232cb72c-1b11-4293-b4e2-a181e80d172e</td>\n",
       "      <td> 1381868</td>\n",
       "      <td> 83</td>\n",
       "      <td> PROPOSITION 064- MARIJUANA LEGALIZATION. INITI...</td>\n",
       "      <td> 459</td>\n",
       "      <td> 1382568</td>\n",
       "      <td> PUBLIC AND MENTAL HEALTH ADVOCATES AGAINST 64,...</td>\n",
       "      <td>  OPPOSE</td>\n",
       "    </tr>\n",
       "    <tr>\n",
       "      <th>78</th>\n",
       "      <td> ocd-contest/232cb72c-1b11-4293-b4e2-a181e80d172e</td>\n",
       "      <td> 1381868</td>\n",
       "      <td> 83</td>\n",
       "      <td> PROPOSITION 064- MARIJUANA LEGALIZATION. INITI...</td>\n",
       "      <td> 460</td>\n",
       "      <td> 1371855</td>\n",
       "      <td> MARIJUANA POLICY PROJECT OF CALIFORNIA, YES ON 64</td>\n",
       "      <td> SUPPORT</td>\n",
       "    </tr>\n",
       "  </tbody>\n",
       "</table>\n",
       "</div>"
      ],
      "text/plain": [
       "                                         ocd_prop_id  calaccess_prop_id  \\\n",
       "74  ocd-contest/232cb72c-1b11-4293-b4e2-a181e80d172e            1381868   \n",
       "75  ocd-contest/232cb72c-1b11-4293-b4e2-a181e80d172e            1381868   \n",
       "76  ocd-contest/232cb72c-1b11-4293-b4e2-a181e80d172e            1381868   \n",
       "77  ocd-contest/232cb72c-1b11-4293-b4e2-a181e80d172e            1381868   \n",
       "78  ocd-contest/232cb72c-1b11-4293-b4e2-a181e80d172e            1381868   \n",
       "\n",
       "    ccdc_prop_id                                          prop_name  \\\n",
       "74            83  PROPOSITION 064- MARIJUANA LEGALIZATION. INITI...   \n",
       "75            83  PROPOSITION 064- MARIJUANA LEGALIZATION. INITI...   \n",
       "76            83  PROPOSITION 064- MARIJUANA LEGALIZATION. INITI...   \n",
       "77            83  PROPOSITION 064- MARIJUANA LEGALIZATION. INITI...   \n",
       "78            83  PROPOSITION 064- MARIJUANA LEGALIZATION. INITI...   \n",
       "\n",
       "    ccdc_committee_id  calaccess_committee_id  \\\n",
       "74                456                 1381808   \n",
       "75                457                 1382525   \n",
       "76                458                 1376077   \n",
       "77                459                 1382568   \n",
       "78                460                 1371855   \n",
       "\n",
       "                                       committee_name committee_position  \n",
       "74  YES ON 64, CALIFORNIANS TO CONTROL, REGULATE A...            SUPPORT  \n",
       "75                             NEW APPROACH PAC (MPO)            SUPPORT  \n",
       "76  CALIFORNIANS FOR SENSIBLE REFORM, SPONSORED BY...            SUPPORT  \n",
       "77  PUBLIC AND MENTAL HEALTH ADVOCATES AGAINST 64,...             OPPOSE  \n",
       "78  MARIJUANA POLICY PROJECT OF CALIFORNIA, YES ON 64            SUPPORT  "
      ]
     },
     "execution_count": 137,
     "metadata": {},
     "output_type": "execute_result"
    }
   ],
   "source": [
    "prop.head()"
   ]
  },
  {
   "cell_type": "code",
   "execution_count": 138,
   "metadata": {
    "collapsed": false
   },
   "outputs": [
    {
     "name": "stdout",
     "output_type": "stream",
     "text": [
      "<class 'pandas.core.frame.DataFrame'>\n",
      "Int64Index: 11 entries, 74 to 84\n",
      "Data columns (total 8 columns):\n",
      "ocd_prop_id               11 non-null object\n",
      "calaccess_prop_id         11 non-null int64\n",
      "ccdc_prop_id              11 non-null int64\n",
      "prop_name                 11 non-null object\n",
      "ccdc_committee_id         11 non-null int64\n",
      "calaccess_committee_id    11 non-null int64\n",
      "committee_name            11 non-null object\n",
      "committee_position        11 non-null object\n",
      "dtypes: int64(4), object(4)"
     ]
    }
   ],
   "source": [
    "prop.info()"
   ]
  },
  {
   "cell_type": "code",
   "execution_count": 139,
   "metadata": {
    "collapsed": false
   },
   "outputs": [
    {
     "name": "stdout",
     "output_type": "stream",
     "text": [
      "<class 'pandas.core.frame.DataFrame'>\n",
      "Int64Index: 56379 entries, 0 to 56378\n",
      "Data columns (total 13 columns):\n",
      "calaccess_committee_id          56379 non-null int64\n",
      "committee_name                  56379 non-null object\n",
      "calaccess_filing_id             56379 non-null int64\n",
      "date_received                   56379 non-null object\n",
      "contributor_lastname            56375 non-null object\n",
      "contributor_firstname           53411 non-null object\n",
      "contributor_city                56369 non-null object\n",
      "contributor_state               56363 non-null object\n",
      "contributor_zip                 56366 non-null object\n",
      "contributor_employer            48572 non-null object\n",
      "contributor_occupation          53273 non-null object\n",
      "contributor_is_self_employed    56379 non-null bool\n",
      "amount                          56379 non-null float64\n",
      "dtypes: bool(1), float64(1), int64(2), object(9)"
     ]
    }
   ],
   "source": [
    "contribs.info()"
   ]
  },
  {
   "cell_type": "code",
   "execution_count": 140,
   "metadata": {
    "collapsed": true
   },
   "outputs": [],
   "source": [
    "merged = pd.merge(prop, contribs, on=\"calaccess_committee_id\")"
   ]
  },
  {
   "cell_type": "code",
   "execution_count": 141,
   "metadata": {
    "collapsed": false
   },
   "outputs": [
    {
     "data": {
      "text/html": [
       "<div style=\"max-height:1000px;max-width:1500px;overflow:auto;\">\n",
       "<table border=\"1\" class=\"dataframe\">\n",
       "  <thead>\n",
       "    <tr style=\"text-align: right;\">\n",
       "      <th></th>\n",
       "      <th>ocd_prop_id</th>\n",
       "      <th>calaccess_prop_id</th>\n",
       "      <th>ccdc_prop_id</th>\n",
       "      <th>prop_name</th>\n",
       "      <th>ccdc_committee_id</th>\n",
       "      <th>calaccess_committee_id</th>\n",
       "      <th>committee_name_x</th>\n",
       "      <th>committee_position</th>\n",
       "      <th>committee_name_y</th>\n",
       "      <th>calaccess_filing_id</th>\n",
       "      <th>date_received</th>\n",
       "      <th>contributor_lastname</th>\n",
       "      <th>contributor_firstname</th>\n",
       "      <th>contributor_city</th>\n",
       "      <th>contributor_state</th>\n",
       "      <th>contributor_zip</th>\n",
       "      <th>contributor_employer</th>\n",
       "      <th>contributor_occupation</th>\n",
       "      <th>contributor_is_self_employed</th>\n",
       "      <th>amount</th>\n",
       "    </tr>\n",
       "  </thead>\n",
       "  <tbody>\n",
       "    <tr>\n",
       "      <th>0</th>\n",
       "      <td> ocd-contest/232cb72c-1b11-4293-b4e2-a181e80d172e</td>\n",
       "      <td> 1381868</td>\n",
       "      <td> 83</td>\n",
       "      <td> PROPOSITION 064- MARIJUANA LEGALIZATION. INITI...</td>\n",
       "      <td> 456</td>\n",
       "      <td> 1381808</td>\n",
       "      <td> YES ON 64, CALIFORNIANS TO CONTROL, REGULATE A...</td>\n",
       "      <td> SUPPORT</td>\n",
       "      <td> YES ON 64, CALIFORNIANS TO CONTROL, REGULATE A...</td>\n",
       "      <td> 2038581</td>\n",
       "      <td> 2016-02-04</td>\n",
       "      <td>                                    BRADEN QUIGLEY</td>\n",
       "      <td> LAURA</td>\n",
       "      <td> SACRAMENTO</td>\n",
       "      <td> CA</td>\n",
       "      <td> 95825</td>\n",
       "      <td> LBQ STRATEGIES</td>\n",
       "      <td> CONSULTANT</td>\n",
       "      <td> False</td>\n",
       "      <td>    100</td>\n",
       "    </tr>\n",
       "    <tr>\n",
       "      <th>1</th>\n",
       "      <td> ocd-contest/232cb72c-1b11-4293-b4e2-a181e80d172e</td>\n",
       "      <td> 1381868</td>\n",
       "      <td> 83</td>\n",
       "      <td> PROPOSITION 064- MARIJUANA LEGALIZATION. INITI...</td>\n",
       "      <td> 456</td>\n",
       "      <td> 1381808</td>\n",
       "      <td> YES ON 64, CALIFORNIANS TO CONTROL, REGULATE A...</td>\n",
       "      <td> SUPPORT</td>\n",
       "      <td> YES ON 64, CALIFORNIANS TO CONTROL, REGULATE A...</td>\n",
       "      <td> 2038581</td>\n",
       "      <td> 2016-01-05</td>\n",
       "      <td> CALIFORNIANS FOR SENSIBLE REFORM, SPONSORED BY...</td>\n",
       "      <td>   NaN</td>\n",
       "      <td>     IRVINE</td>\n",
       "      <td> CA</td>\n",
       "      <td> 92618</td>\n",
       "      <td>            NaN</td>\n",
       "      <td>        NaN</td>\n",
       "      <td> False</td>\n",
       "      <td> 250000</td>\n",
       "    </tr>\n",
       "    <tr>\n",
       "      <th>2</th>\n",
       "      <td> ocd-contest/232cb72c-1b11-4293-b4e2-a181e80d172e</td>\n",
       "      <td> 1381868</td>\n",
       "      <td> 83</td>\n",
       "      <td> PROPOSITION 064- MARIJUANA LEGALIZATION. INITI...</td>\n",
       "      <td> 456</td>\n",
       "      <td> 1381808</td>\n",
       "      <td> YES ON 64, CALIFORNIANS TO CONTROL, REGULATE A...</td>\n",
       "      <td> SUPPORT</td>\n",
       "      <td> YES ON 64, CALIFORNIANS TO CONTROL, REGULATE A...</td>\n",
       "      <td> 2038581</td>\n",
       "      <td> 2016-01-29</td>\n",
       "      <td> CALIFORNIANS FOR SENSIBLE REFORM, SPONSORED BY...</td>\n",
       "      <td>   NaN</td>\n",
       "      <td>     IRVINE</td>\n",
       "      <td> CA</td>\n",
       "      <td> 92618</td>\n",
       "      <td>            NaN</td>\n",
       "      <td>        NaN</td>\n",
       "      <td> False</td>\n",
       "      <td> 250000</td>\n",
       "    </tr>\n",
       "    <tr>\n",
       "      <th>3</th>\n",
       "      <td> ocd-contest/232cb72c-1b11-4293-b4e2-a181e80d172e</td>\n",
       "      <td> 1381868</td>\n",
       "      <td> 83</td>\n",
       "      <td> PROPOSITION 064- MARIJUANA LEGALIZATION. INITI...</td>\n",
       "      <td> 456</td>\n",
       "      <td> 1381808</td>\n",
       "      <td> YES ON 64, CALIFORNIANS TO CONTROL, REGULATE A...</td>\n",
       "      <td> SUPPORT</td>\n",
       "      <td> YES ON 64, CALIFORNIANS TO CONTROL, REGULATE A...</td>\n",
       "      <td> 2038581</td>\n",
       "      <td> 2016-03-28</td>\n",
       "      <td> CALIFORNIANS FOR SENSIBLE REFORM, SPONSORED BY...</td>\n",
       "      <td>   NaN</td>\n",
       "      <td>     IRVINE</td>\n",
       "      <td> CA</td>\n",
       "      <td> 92618</td>\n",
       "      <td>            NaN</td>\n",
       "      <td>        NaN</td>\n",
       "      <td> False</td>\n",
       "      <td> 250000</td>\n",
       "    </tr>\n",
       "    <tr>\n",
       "      <th>4</th>\n",
       "      <td> ocd-contest/232cb72c-1b11-4293-b4e2-a181e80d172e</td>\n",
       "      <td> 1381868</td>\n",
       "      <td> 83</td>\n",
       "      <td> PROPOSITION 064- MARIJUANA LEGALIZATION. INITI...</td>\n",
       "      <td> 456</td>\n",
       "      <td> 1381808</td>\n",
       "      <td> YES ON 64, CALIFORNIANS TO CONTROL, REGULATE A...</td>\n",
       "      <td> SUPPORT</td>\n",
       "      <td> YES ON 64, CALIFORNIANS TO CONTROL, REGULATE A...</td>\n",
       "      <td> 2038581</td>\n",
       "      <td> 2016-01-05</td>\n",
       "      <td>                                DRUG POLICY ACTION</td>\n",
       "      <td>   NaN</td>\n",
       "      <td>   NEW YORK</td>\n",
       "      <td> NY</td>\n",
       "      <td> 10001</td>\n",
       "      <td>            NaN</td>\n",
       "      <td>        NaN</td>\n",
       "      <td> False</td>\n",
       "      <td> 250000</td>\n",
       "    </tr>\n",
       "  </tbody>\n",
       "</table>\n",
       "</div>"
      ],
      "text/plain": [
       "                                        ocd_prop_id  calaccess_prop_id  \\\n",
       "0  ocd-contest/232cb72c-1b11-4293-b4e2-a181e80d172e            1381868   \n",
       "1  ocd-contest/232cb72c-1b11-4293-b4e2-a181e80d172e            1381868   \n",
       "2  ocd-contest/232cb72c-1b11-4293-b4e2-a181e80d172e            1381868   \n",
       "3  ocd-contest/232cb72c-1b11-4293-b4e2-a181e80d172e            1381868   \n",
       "4  ocd-contest/232cb72c-1b11-4293-b4e2-a181e80d172e            1381868   \n",
       "\n",
       "   ccdc_prop_id                                          prop_name  \\\n",
       "0            83  PROPOSITION 064- MARIJUANA LEGALIZATION. INITI...   \n",
       "1            83  PROPOSITION 064- MARIJUANA LEGALIZATION. INITI...   \n",
       "2            83  PROPOSITION 064- MARIJUANA LEGALIZATION. INITI...   \n",
       "3            83  PROPOSITION 064- MARIJUANA LEGALIZATION. INITI...   \n",
       "4            83  PROPOSITION 064- MARIJUANA LEGALIZATION. INITI...   \n",
       "\n",
       "   ccdc_committee_id  calaccess_committee_id  \\\n",
       "0                456                 1381808   \n",
       "1                456                 1381808   \n",
       "2                456                 1381808   \n",
       "3                456                 1381808   \n",
       "4                456                 1381808   \n",
       "\n",
       "                                    committee_name_x committee_position  \\\n",
       "0  YES ON 64, CALIFORNIANS TO CONTROL, REGULATE A...            SUPPORT   \n",
       "1  YES ON 64, CALIFORNIANS TO CONTROL, REGULATE A...            SUPPORT   \n",
       "2  YES ON 64, CALIFORNIANS TO CONTROL, REGULATE A...            SUPPORT   \n",
       "3  YES ON 64, CALIFORNIANS TO CONTROL, REGULATE A...            SUPPORT   \n",
       "4  YES ON 64, CALIFORNIANS TO CONTROL, REGULATE A...            SUPPORT   \n",
       "\n",
       "                                    committee_name_y  calaccess_filing_id  \\\n",
       "0  YES ON 64, CALIFORNIANS TO CONTROL, REGULATE A...              2038581   \n",
       "1  YES ON 64, CALIFORNIANS TO CONTROL, REGULATE A...              2038581   \n",
       "2  YES ON 64, CALIFORNIANS TO CONTROL, REGULATE A...              2038581   \n",
       "3  YES ON 64, CALIFORNIANS TO CONTROL, REGULATE A...              2038581   \n",
       "4  YES ON 64, CALIFORNIANS TO CONTROL, REGULATE A...              2038581   \n",
       "\n",
       "  date_received                               contributor_lastname  \\\n",
       "0    2016-02-04                                     BRADEN QUIGLEY   \n",
       "1    2016-01-05  CALIFORNIANS FOR SENSIBLE REFORM, SPONSORED BY...   \n",
       "2    2016-01-29  CALIFORNIANS FOR SENSIBLE REFORM, SPONSORED BY...   \n",
       "3    2016-03-28  CALIFORNIANS FOR SENSIBLE REFORM, SPONSORED BY...   \n",
       "4    2016-01-05                                 DRUG POLICY ACTION   \n",
       "\n",
       "  contributor_firstname contributor_city contributor_state contributor_zip  \\\n",
       "0                 LAURA       SACRAMENTO                CA           95825   \n",
       "1                   NaN           IRVINE                CA           92618   \n",
       "2                   NaN           IRVINE                CA           92618   \n",
       "3                   NaN           IRVINE                CA           92618   \n",
       "4                   NaN         NEW YORK                NY           10001   \n",
       "\n",
       "  contributor_employer contributor_occupation contributor_is_self_employed  \\\n",
       "0       LBQ STRATEGIES             CONSULTANT                        False   \n",
       "1                  NaN                    NaN                        False   \n",
       "2                  NaN                    NaN                        False   \n",
       "3                  NaN                    NaN                        False   \n",
       "4                  NaN                    NaN                        False   \n",
       "\n",
       "   amount  \n",
       "0     100  \n",
       "1  250000  \n",
       "2  250000  \n",
       "3  250000  \n",
       "4  250000  "
      ]
     },
     "execution_count": 141,
     "metadata": {},
     "output_type": "execute_result"
    }
   ],
   "source": [
    "merged.head()"
   ]
  },
  {
   "cell_type": "code",
   "execution_count": 142,
   "metadata": {
    "collapsed": false
   },
   "outputs": [
    {
     "name": "stdout",
     "output_type": "stream",
     "text": [
      "<class 'pandas.core.frame.DataFrame'>\n",
      "Int64Index: 860 entries, 0 to 859\n",
      "Data columns (total 20 columns):\n",
      "ocd_prop_id                     860 non-null object\n",
      "calaccess_prop_id               860 non-null int64\n",
      "ccdc_prop_id                    860 non-null int64\n",
      "prop_name                       860 non-null object\n",
      "ccdc_committee_id               860 non-null int64\n",
      "calaccess_committee_id          860 non-null int64\n",
      "committee_name_x                860 non-null object\n",
      "committee_position              860 non-null object\n",
      "committee_name_y                860 non-null object\n",
      "calaccess_filing_id             860 non-null int64\n",
      "date_received                   860 non-null object\n",
      "contributor_lastname            860 non-null object\n",
      "contributor_firstname           750 non-null object\n",
      "contributor_city                860 non-null object\n",
      "contributor_state               860 non-null object\n",
      "contributor_zip                 860 non-null object\n",
      "contributor_employer            657 non-null object\n",
      "contributor_occupation          742 non-null object\n",
      "contributor_is_self_employed    860 non-null bool\n",
      "amount                          860 non-null float64\n",
      "dtypes: bool(1), float64(1), int64(5), object(13)"
     ]
    }
   ],
   "source": [
    "merged.info()"
   ]
  },
  {
   "cell_type": "code",
   "execution_count": 143,
   "metadata": {
    "collapsed": false
   },
   "outputs": [
    {
     "data": {
      "text/plain": [
       "0        100\n",
       "1     250000\n",
       "2     250000\n",
       "3     250000\n",
       "4     250000\n",
       "5     250000\n",
       "6        100\n",
       "7        100\n",
       "8        100\n",
       "9     250000\n",
       "10    250000\n",
       "11    250000\n",
       "12    250000\n",
       "13    250000\n",
       "14      1000\n",
       "...\n",
       "845    1000000.00\n",
       "846    1970000.00\n",
       "847      30000.00\n",
       "848     550000.00\n",
       "849     420000.00\n",
       "850    1000000.00\n",
       "851    1970000.00\n",
       "852    1403000.00\n",
       "853     500000.00\n",
       "854     200000.00\n",
       "855      97000.00\n",
       "856       4185.00\n",
       "857        817.00\n",
       "858        408.64\n",
       "859        871.00\n",
       "Name: amount, Length: 860, dtype: float64"
      ]
     },
     "execution_count": 143,
     "metadata": {},
     "output_type": "execute_result"
    }
   ],
   "source": [
    "merged.amount"
   ]
  },
  {
   "cell_type": "code",
   "execution_count": 144,
   "metadata": {
    "collapsed": false
   },
   "outputs": [
    {
     "data": {
      "text/plain": [
       "35177017.640000001"
      ]
     },
     "execution_count": 144,
     "metadata": {},
     "output_type": "execute_result"
    }
   ],
   "source": [
    "merged.amount.sum()"
   ]
  },
  {
   "cell_type": "code",
   "execution_count": 145,
   "metadata": {
    "collapsed": false
   },
   "outputs": [
    {
     "data": {
      "text/plain": [
       "SUPPORT    762\n",
       "OPPOSE      98\n",
       "dtype: int64"
      ]
     },
     "execution_count": 145,
     "metadata": {},
     "output_type": "execute_result"
    }
   ],
   "source": [
    "merged.committee_position.value_counts()"
   ]
  },
  {
   "cell_type": "code",
   "execution_count": 146,
   "metadata": {
    "collapsed": true
   },
   "outputs": [],
   "source": [
    "support = merged[merged.committee_position == 'SUPPORT']"
   ]
  },
  {
   "cell_type": "code",
   "execution_count": 147,
   "metadata": {
    "collapsed": true
   },
   "outputs": [],
   "source": [
    "oppose = merged[merged.committee_position == 'OPPOSE']"
   ]
  },
  {
   "cell_type": "code",
   "execution_count": 148,
   "metadata": {
    "collapsed": false
   },
   "outputs": [
    {
     "data": {
      "text/plain": [
       "2501211.6400000001"
      ]
     },
     "execution_count": 148,
     "metadata": {},
     "output_type": "execute_result"
    }
   ],
   "source": [
    "oppose.amount.sum()"
   ]
  },
  {
   "cell_type": "code",
   "execution_count": 149,
   "metadata": {
    "collapsed": false
   },
   "outputs": [
    {
     "data": {
      "text/plain": [
       "32675806.0"
      ]
     },
     "execution_count": 149,
     "metadata": {},
     "output_type": "execute_result"
    }
   ],
   "source": [
    "support.amount.sum()"
   ]
  },
  {
   "cell_type": "code",
   "execution_count": 150,
   "metadata": {
    "collapsed": false
   },
   "outputs": [
    {
     "data": {
      "text/plain": [
       "0.92889642704798669"
      ]
     },
     "execution_count": 150,
     "metadata": {},
     "output_type": "execute_result"
    }
   ],
   "source": [
    "support.amount.sum() / merged.amount.sum()"
   ]
  },
  {
   "cell_type": "code",
   "execution_count": 151,
   "metadata": {
    "collapsed": false
   },
   "outputs": [
    {
     "ename": "AttributeError",
     "evalue": "'DataFrame' object has no attribute 'sort_values'",
     "output_type": "error",
     "traceback": [
      "\u001b[0;31m\u001b[0m",
      "\u001b[0;31mAttributeError\u001b[0mTraceback (most recent call last)",
      "\u001b[0;32m<ipython-input-151-f62cd4a7e61e>\u001b[0m in \u001b[0;36m<module>\u001b[0;34m()\u001b[0m\n\u001b[0;32m----> 1\u001b[0;31m \u001b[0mmerged\u001b[0m\u001b[1;33m.\u001b[0m\u001b[0msort_values\u001b[0m\u001b[1;33m(\u001b[0m\u001b[1;34m\"amount\"\u001b[0m\u001b[1;33m)\u001b[0m\u001b[1;33m\u001b[0m\u001b[0m\n\u001b[0m",
      "\u001b[0;32mC:\\Anaconda\\lib\\site-packages\\pandas\\core\\generic.pyc\u001b[0m in \u001b[0;36m__getattr__\u001b[0;34m(self, name)\u001b[0m\n\u001b[1;32m   1841\u001b[0m                 \u001b[1;32mreturn\u001b[0m \u001b[0mself\u001b[0m\u001b[1;33m[\u001b[0m\u001b[0mname\u001b[0m\u001b[1;33m]\u001b[0m\u001b[1;33m\u001b[0m\u001b[0m\n\u001b[1;32m   1842\u001b[0m             raise AttributeError(\"'%s' object has no attribute '%s'\" %\n\u001b[0;32m-> 1843\u001b[0;31m                                  (type(self).__name__, name))\n\u001b[0m\u001b[1;32m   1844\u001b[0m \u001b[1;33m\u001b[0m\u001b[0m\n\u001b[1;32m   1845\u001b[0m     \u001b[1;32mdef\u001b[0m \u001b[0m__setattr__\u001b[0m\u001b[1;33m(\u001b[0m\u001b[0mself\u001b[0m\u001b[1;33m,\u001b[0m \u001b[0mname\u001b[0m\u001b[1;33m,\u001b[0m \u001b[0mvalue\u001b[0m\u001b[1;33m)\u001b[0m\u001b[1;33m:\u001b[0m\u001b[1;33m\u001b[0m\u001b[0m\n",
      "\u001b[0;31mAttributeError\u001b[0m: 'DataFrame' object has no attribute 'sort_values'"
     ]
    }
   ],
   "source": [
    "merged.sort_values(\"amount\")"
   ]
  },
  {
   "cell_type": "code",
   "execution_count": 152,
   "metadata": {
    "collapsed": false
   },
   "outputs": [
    {
     "ename": "AttributeError",
     "evalue": "'DataFrame' object has no attribute 'sort_values'",
     "output_type": "error",
     "traceback": [
      "\u001b[0;31m\u001b[0m",
      "\u001b[0;31mAttributeError\u001b[0mTraceback (most recent call last)",
      "\u001b[0;32m<ipython-input-152-485b8b8d8f0b>\u001b[0m in \u001b[0;36m<module>\u001b[0;34m()\u001b[0m\n\u001b[0;32m----> 1\u001b[0;31m \u001b[0mmerged\u001b[0m\u001b[1;33m.\u001b[0m\u001b[0msort_values\u001b[0m\u001b[1;33m(\u001b[0m\u001b[1;34m\"amount\"\u001b[0m\u001b[1;33m,\u001b[0m \u001b[0mascending\u001b[0m\u001b[1;33m=\u001b[0m\u001b[0mFalse\u001b[0m\u001b[1;33m)\u001b[0m\u001b[1;33m.\u001b[0m\u001b[0mhead\u001b[0m\u001b[1;33m(\u001b[0m\u001b[1;33m)\u001b[0m\u001b[1;33m\u001b[0m\u001b[0m\n\u001b[0m",
      "\u001b[0;32mC:\\Anaconda\\lib\\site-packages\\pandas\\core\\generic.pyc\u001b[0m in \u001b[0;36m__getattr__\u001b[0;34m(self, name)\u001b[0m\n\u001b[1;32m   1841\u001b[0m                 \u001b[1;32mreturn\u001b[0m \u001b[0mself\u001b[0m\u001b[1;33m[\u001b[0m\u001b[0mname\u001b[0m\u001b[1;33m]\u001b[0m\u001b[1;33m\u001b[0m\u001b[0m\n\u001b[1;32m   1842\u001b[0m             raise AttributeError(\"'%s' object has no attribute '%s'\" %\n\u001b[0;32m-> 1843\u001b[0;31m                                  (type(self).__name__, name))\n\u001b[0m\u001b[1;32m   1844\u001b[0m \u001b[1;33m\u001b[0m\u001b[0m\n\u001b[1;32m   1845\u001b[0m     \u001b[1;32mdef\u001b[0m \u001b[0m__setattr__\u001b[0m\u001b[1;33m(\u001b[0m\u001b[0mself\u001b[0m\u001b[1;33m,\u001b[0m \u001b[0mname\u001b[0m\u001b[1;33m,\u001b[0m \u001b[0mvalue\u001b[0m\u001b[1;33m)\u001b[0m\u001b[1;33m:\u001b[0m\u001b[1;33m\u001b[0m\u001b[0m\n",
      "\u001b[0;31mAttributeError\u001b[0m: 'DataFrame' object has no attribute 'sort_values'"
     ]
    }
   ],
   "source": [
    "merged.sort_values(\"amount\", ascending=False).head()"
   ]
  },
  {
   "cell_type": "code",
   "execution_count": 153,
   "metadata": {
    "collapsed": false
   },
   "outputs": [
    {
     "ename": "AttributeError",
     "evalue": "'DataFrame' object has no attribute 'sort_values'",
     "output_type": "error",
     "traceback": [
      "\u001b[0;31m\u001b[0m",
      "\u001b[0;31mAttributeError\u001b[0mTraceback (most recent call last)",
      "\u001b[0;32m<ipython-input-153-540360468b7f>\u001b[0m in \u001b[0;36m<module>\u001b[0;34m()\u001b[0m\n\u001b[0;32m----> 1\u001b[0;31m \u001b[0msupport\u001b[0m\u001b[1;33m.\u001b[0m\u001b[0msort_values\u001b[0m\u001b[1;33m(\u001b[0m\u001b[1;34m\"amount\"\u001b[0m\u001b[1;33m,\u001b[0m \u001b[0mascending\u001b[0m\u001b[1;33m=\u001b[0m\u001b[0mFalse\u001b[0m\u001b[1;33m)\u001b[0m\u001b[1;33m.\u001b[0m\u001b[0mhead\u001b[0m\u001b[1;33m(\u001b[0m\u001b[1;33m)\u001b[0m\u001b[1;33m\u001b[0m\u001b[0m\n\u001b[0m",
      "\u001b[0;32mC:\\Anaconda\\lib\\site-packages\\pandas\\core\\generic.pyc\u001b[0m in \u001b[0;36m__getattr__\u001b[0;34m(self, name)\u001b[0m\n\u001b[1;32m   1841\u001b[0m                 \u001b[1;32mreturn\u001b[0m \u001b[0mself\u001b[0m\u001b[1;33m[\u001b[0m\u001b[0mname\u001b[0m\u001b[1;33m]\u001b[0m\u001b[1;33m\u001b[0m\u001b[0m\n\u001b[1;32m   1842\u001b[0m             raise AttributeError(\"'%s' object has no attribute '%s'\" %\n\u001b[0;32m-> 1843\u001b[0;31m                                  (type(self).__name__, name))\n\u001b[0m\u001b[1;32m   1844\u001b[0m \u001b[1;33m\u001b[0m\u001b[0m\n\u001b[1;32m   1845\u001b[0m     \u001b[1;32mdef\u001b[0m \u001b[0m__setattr__\u001b[0m\u001b[1;33m(\u001b[0m\u001b[0mself\u001b[0m\u001b[1;33m,\u001b[0m \u001b[0mname\u001b[0m\u001b[1;33m,\u001b[0m \u001b[0mvalue\u001b[0m\u001b[1;33m)\u001b[0m\u001b[1;33m:\u001b[0m\u001b[1;33m\u001b[0m\u001b[0m\n",
      "\u001b[0;31mAttributeError\u001b[0m: 'DataFrame' object has no attribute 'sort_values'"
     ]
    }
   ],
   "source": [
    "support.sort_values(\"amount\", ascending=False).head()"
   ]
  },
  {
   "cell_type": "code",
   "execution_count": 154,
   "metadata": {
    "collapsed": false
   },
   "outputs": [
    {
     "ename": "AttributeError",
     "evalue": "'DataFrame' object has no attribute 'sort_values'",
     "output_type": "error",
     "traceback": [
      "\u001b[0;31m\u001b[0m",
      "\u001b[0;31mAttributeError\u001b[0mTraceback (most recent call last)",
      "\u001b[0;32m<ipython-input-154-8020aa67fca1>\u001b[0m in \u001b[0;36m<module>\u001b[0;34m()\u001b[0m\n\u001b[0;32m----> 1\u001b[0;31m \u001b[0moppose\u001b[0m\u001b[1;33m.\u001b[0m\u001b[0msort_values\u001b[0m\u001b[1;33m(\u001b[0m\u001b[1;34m\"amount\"\u001b[0m\u001b[1;33m,\u001b[0m \u001b[0mascending\u001b[0m\u001b[1;33m=\u001b[0m\u001b[0mFalse\u001b[0m\u001b[1;33m)\u001b[0m\u001b[1;33m.\u001b[0m\u001b[0mhead\u001b[0m\u001b[1;33m(\u001b[0m\u001b[1;33m)\u001b[0m\u001b[1;33m\u001b[0m\u001b[0m\n\u001b[0m",
      "\u001b[0;32mC:\\Anaconda\\lib\\site-packages\\pandas\\core\\generic.pyc\u001b[0m in \u001b[0;36m__getattr__\u001b[0;34m(self, name)\u001b[0m\n\u001b[1;32m   1841\u001b[0m                 \u001b[1;32mreturn\u001b[0m \u001b[0mself\u001b[0m\u001b[1;33m[\u001b[0m\u001b[0mname\u001b[0m\u001b[1;33m]\u001b[0m\u001b[1;33m\u001b[0m\u001b[0m\n\u001b[1;32m   1842\u001b[0m             raise AttributeError(\"'%s' object has no attribute '%s'\" %\n\u001b[0;32m-> 1843\u001b[0;31m                                  (type(self).__name__, name))\n\u001b[0m\u001b[1;32m   1844\u001b[0m \u001b[1;33m\u001b[0m\u001b[0m\n\u001b[1;32m   1845\u001b[0m     \u001b[1;32mdef\u001b[0m \u001b[0m__setattr__\u001b[0m\u001b[1;33m(\u001b[0m\u001b[0mself\u001b[0m\u001b[1;33m,\u001b[0m \u001b[0mname\u001b[0m\u001b[1;33m,\u001b[0m \u001b[0mvalue\u001b[0m\u001b[1;33m)\u001b[0m\u001b[1;33m:\u001b[0m\u001b[1;33m\u001b[0m\u001b[0m\n",
      "\u001b[0;31mAttributeError\u001b[0m: 'DataFrame' object has no attribute 'sort_values'"
     ]
    }
   ],
   "source": [
    "oppose.sort_values(\"amount\", ascending=False).head()"
   ]
  },
  {
   "cell_type": "code",
   "execution_count": 155,
   "metadata": {
    "collapsed": false
   },
   "outputs": [
    {
     "data": {
      "text/plain": [
       "committee_name_x\n",
       "ADULT USE CAMPAIGN FOR PROPOSITION 64; THE                         17089.00\n",
       "CALIFORNIANS FOR RESPONSIBLE MARIJUANA REFORM, SPONSORED BY DRUG POLICY ACTION, YES ON PROP. 64      860470.00\n",
       "CALIFORNIANS FOR SENSIBLE REFORM, SPONSORED BY GHOST MANAGEMENT GROUP, LLC DBA WEEDMAPS      850000.00\n",
       "DRUG POLICY ACTION - NON PROFIT 501C4, YES ON PROP. 64           4470000.00\n",
       "FUND FOR POLICY REFORM (NONPROFIT 501(C)(4))                     6140000.00\n",
       "MARIJUANA POLICY PROJECT OF CALIFORNIA, YES ON 64                 739200.00\n",
       "MOMS STRONG AGAINST PROP 64                                         6281.64\n",
       "NEW APPROACH PAC (MPO)                                           3865000.00\n",
       "PUBLIC AND MENTAL HEALTH ADVOCATES AGAINST 64, SPONSORED AND MAJOR FUNDING BY SAM ACTION, INC. AND CALIFORNIA PUBLIC SAFETY INSTITUTE     1130930.00\n",
       "SAM ACTION, INC., A COMMITTEE AGAINST PROPOSITION 64 WITH HELP FROM CITIZENS (NONPROFIT 501 (C)(4))     1364000.00\n",
       "YES ON 64, CALIFORNIANS TO CONTROL, REGULATE AND TAX ADULT USE OF MARIJUANA WHILE PROTECTING CHILDREN, SPONSORED BY BUSINESS, PHYSICIANS, ENVIRONMENTAL AND SOCIAL-JUSTICE ADVOCATE ORGANIZATIONS    15734047.00\n",
       "Name: amount, dtype: float64"
      ]
     },
     "execution_count": 155,
     "metadata": {},
     "output_type": "execute_result"
    }
   ],
   "source": [
    "merged.groupby(\"committee_name_x\").amount.sum()"
   ]
  },
  {
   "cell_type": "code",
   "execution_count": 156,
   "metadata": {
    "collapsed": false
   },
   "outputs": [
    {
     "data": {
      "text/html": [
       "<div style=\"max-height:1000px;max-width:1500px;overflow:auto;\">\n",
       "<table border=\"1\" class=\"dataframe\">\n",
       "  <thead>\n",
       "    <tr style=\"text-align: right;\">\n",
       "      <th></th>\n",
       "      <th>committee_name_x</th>\n",
       "      <th>amount</th>\n",
       "    </tr>\n",
       "  </thead>\n",
       "  <tbody>\n",
       "    <tr>\n",
       "      <th>0 </th>\n",
       "      <td>        ADULT USE CAMPAIGN FOR PROPOSITION 64; THE</td>\n",
       "      <td>    17089.00</td>\n",
       "    </tr>\n",
       "    <tr>\n",
       "      <th>1 </th>\n",
       "      <td> CALIFORNIANS FOR RESPONSIBLE MARIJUANA REFORM,...</td>\n",
       "      <td>   860470.00</td>\n",
       "    </tr>\n",
       "    <tr>\n",
       "      <th>2 </th>\n",
       "      <td> CALIFORNIANS FOR SENSIBLE REFORM, SPONSORED BY...</td>\n",
       "      <td>   850000.00</td>\n",
       "    </tr>\n",
       "    <tr>\n",
       "      <th>3 </th>\n",
       "      <td> DRUG POLICY ACTION - NON PROFIT 501C4, YES ON ...</td>\n",
       "      <td>  4470000.00</td>\n",
       "    </tr>\n",
       "    <tr>\n",
       "      <th>4 </th>\n",
       "      <td>      FUND FOR POLICY REFORM (NONPROFIT 501(C)(4))</td>\n",
       "      <td>  6140000.00</td>\n",
       "    </tr>\n",
       "    <tr>\n",
       "      <th>5 </th>\n",
       "      <td> MARIJUANA POLICY PROJECT OF CALIFORNIA, YES ON 64</td>\n",
       "      <td>   739200.00</td>\n",
       "    </tr>\n",
       "    <tr>\n",
       "      <th>6 </th>\n",
       "      <td>                       MOMS STRONG AGAINST PROP 64</td>\n",
       "      <td>     6281.64</td>\n",
       "    </tr>\n",
       "    <tr>\n",
       "      <th>7 </th>\n",
       "      <td>                            NEW APPROACH PAC (MPO)</td>\n",
       "      <td>  3865000.00</td>\n",
       "    </tr>\n",
       "    <tr>\n",
       "      <th>8 </th>\n",
       "      <td> PUBLIC AND MENTAL HEALTH ADVOCATES AGAINST 64,...</td>\n",
       "      <td>  1130930.00</td>\n",
       "    </tr>\n",
       "    <tr>\n",
       "      <th>9 </th>\n",
       "      <td> SAM ACTION, INC., A COMMITTEE AGAINST PROPOSIT...</td>\n",
       "      <td>  1364000.00</td>\n",
       "    </tr>\n",
       "    <tr>\n",
       "      <th>10</th>\n",
       "      <td> YES ON 64, CALIFORNIANS TO CONTROL, REGULATE A...</td>\n",
       "      <td> 15734047.00</td>\n",
       "    </tr>\n",
       "  </tbody>\n",
       "</table>\n",
       "</div>"
      ],
      "text/plain": [
       "                                     committee_name_x       amount\n",
       "0          ADULT USE CAMPAIGN FOR PROPOSITION 64; THE     17089.00\n",
       "1   CALIFORNIANS FOR RESPONSIBLE MARIJUANA REFORM,...    860470.00\n",
       "2   CALIFORNIANS FOR SENSIBLE REFORM, SPONSORED BY...    850000.00\n",
       "3   DRUG POLICY ACTION - NON PROFIT 501C4, YES ON ...   4470000.00\n",
       "4        FUND FOR POLICY REFORM (NONPROFIT 501(C)(4))   6140000.00\n",
       "5   MARIJUANA POLICY PROJECT OF CALIFORNIA, YES ON 64    739200.00\n",
       "6                         MOMS STRONG AGAINST PROP 64      6281.64\n",
       "7                              NEW APPROACH PAC (MPO)   3865000.00\n",
       "8   PUBLIC AND MENTAL HEALTH ADVOCATES AGAINST 64,...   1130930.00\n",
       "9   SAM ACTION, INC., A COMMITTEE AGAINST PROPOSIT...   1364000.00\n",
       "10  YES ON 64, CALIFORNIANS TO CONTROL, REGULATE A...  15734047.00"
      ]
     },
     "execution_count": 156,
     "metadata": {},
     "output_type": "execute_result"
    }
   ],
   "source": [
    "merged.groupby(\"committee_name_x\").amount.sum().reset_index()"
   ]
  },
  {
   "cell_type": "code",
   "execution_count": 159,
   "metadata": {
    "collapsed": false
   },
   "outputs": [
    {
     "data": {
      "text/html": [
       "<div style=\"max-height:1000px;max-width:1500px;overflow:auto;\">\n",
       "<table border=\"1\" class=\"dataframe\">\n",
       "  <thead>\n",
       "    <tr style=\"text-align: right;\">\n",
       "      <th></th>\n",
       "      <th>committee_name_x</th>\n",
       "      <th>amount</th>\n",
       "    </tr>\n",
       "  </thead>\n",
       "  <tbody>\n",
       "    <tr>\n",
       "      <th>0 </th>\n",
       "      <td>        ADULT USE CAMPAIGN FOR PROPOSITION 64; THE</td>\n",
       "      <td>    17089.00</td>\n",
       "    </tr>\n",
       "    <tr>\n",
       "      <th>1 </th>\n",
       "      <td> CALIFORNIANS FOR RESPONSIBLE MARIJUANA REFORM,...</td>\n",
       "      <td>   860470.00</td>\n",
       "    </tr>\n",
       "    <tr>\n",
       "      <th>2 </th>\n",
       "      <td> CALIFORNIANS FOR SENSIBLE REFORM, SPONSORED BY...</td>\n",
       "      <td>   850000.00</td>\n",
       "    </tr>\n",
       "    <tr>\n",
       "      <th>3 </th>\n",
       "      <td> DRUG POLICY ACTION - NON PROFIT 501C4, YES ON ...</td>\n",
       "      <td>  4470000.00</td>\n",
       "    </tr>\n",
       "    <tr>\n",
       "      <th>4 </th>\n",
       "      <td>      FUND FOR POLICY REFORM (NONPROFIT 501(C)(4))</td>\n",
       "      <td>  6140000.00</td>\n",
       "    </tr>\n",
       "    <tr>\n",
       "      <th>5 </th>\n",
       "      <td> MARIJUANA POLICY PROJECT OF CALIFORNIA, YES ON 64</td>\n",
       "      <td>   739200.00</td>\n",
       "    </tr>\n",
       "    <tr>\n",
       "      <th>6 </th>\n",
       "      <td>                       MOMS STRONG AGAINST PROP 64</td>\n",
       "      <td>     6281.64</td>\n",
       "    </tr>\n",
       "    <tr>\n",
       "      <th>7 </th>\n",
       "      <td>                            NEW APPROACH PAC (MPO)</td>\n",
       "      <td>  3865000.00</td>\n",
       "    </tr>\n",
       "    <tr>\n",
       "      <th>8 </th>\n",
       "      <td> PUBLIC AND MENTAL HEALTH ADVOCATES AGAINST 64,...</td>\n",
       "      <td>  1130930.00</td>\n",
       "    </tr>\n",
       "    <tr>\n",
       "      <th>9 </th>\n",
       "      <td> SAM ACTION, INC., A COMMITTEE AGAINST PROPOSIT...</td>\n",
       "      <td>  1364000.00</td>\n",
       "    </tr>\n",
       "    <tr>\n",
       "      <th>10</th>\n",
       "      <td> YES ON 64, CALIFORNIANS TO CONTROL, REGULATE A...</td>\n",
       "      <td> 15734047.00</td>\n",
       "    </tr>\n",
       "  </tbody>\n",
       "</table>\n",
       "</div>"
      ],
      "text/plain": [
       "                                     committee_name_x       amount\n",
       "0          ADULT USE CAMPAIGN FOR PROPOSITION 64; THE     17089.00\n",
       "1   CALIFORNIANS FOR RESPONSIBLE MARIJUANA REFORM,...    860470.00\n",
       "2   CALIFORNIANS FOR SENSIBLE REFORM, SPONSORED BY...    850000.00\n",
       "3   DRUG POLICY ACTION - NON PROFIT 501C4, YES ON ...   4470000.00\n",
       "4        FUND FOR POLICY REFORM (NONPROFIT 501(C)(4))   6140000.00\n",
       "5   MARIJUANA POLICY PROJECT OF CALIFORNIA, YES ON 64    739200.00\n",
       "6                         MOMS STRONG AGAINST PROP 64      6281.64\n",
       "7                              NEW APPROACH PAC (MPO)   3865000.00\n",
       "8   PUBLIC AND MENTAL HEALTH ADVOCATES AGAINST 64,...   1130930.00\n",
       "9   SAM ACTION, INC., A COMMITTEE AGAINST PROPOSIT...   1364000.00\n",
       "10  YES ON 64, CALIFORNIANS TO CONTROL, REGULATE A...  15734047.00"
      ]
     },
     "execution_count": 159,
     "metadata": {},
     "output_type": "execute_result"
    }
   ],
   "source": [
    "merged.groupby(\"committee_name_x\").amount.sum().reset_index()"
   ]
  },
  {
   "cell_type": "code",
   "execution_count": 160,
   "metadata": {
    "collapsed": false
   },
   "outputs": [
    {
     "data": {
      "text/html": [
       "<div style=\"max-height:1000px;max-width:1500px;overflow:auto;\">\n",
       "<table border=\"1\" class=\"dataframe\">\n",
       "  <thead>\n",
       "    <tr style=\"text-align: right;\">\n",
       "      <th></th>\n",
       "      <th>contributor_firstname</th>\n",
       "      <th>contributor_lastname</th>\n",
       "      <th>amount</th>\n",
       "    </tr>\n",
       "  </thead>\n",
       "  <tbody>\n",
       "    <tr>\n",
       "      <th>0  </th>\n",
       "      <td>               AARON</td>\n",
       "      <td>          JUSTIS</td>\n",
       "      <td>   250</td>\n",
       "    </tr>\n",
       "    <tr>\n",
       "      <th>1  </th>\n",
       "      <td>               ABDUL</td>\n",
       "      <td>           AHMED</td>\n",
       "      <td>   200</td>\n",
       "    </tr>\n",
       "    <tr>\n",
       "      <th>2  </th>\n",
       "      <td>                ADAM</td>\n",
       "      <td>           ELLIS</td>\n",
       "      <td>   100</td>\n",
       "    </tr>\n",
       "    <tr>\n",
       "      <th>3  </th>\n",
       "      <td>                ADAM</td>\n",
       "      <td>           ORENS</td>\n",
       "      <td>   100</td>\n",
       "    </tr>\n",
       "    <tr>\n",
       "      <th>4  </th>\n",
       "      <td>                ADAM</td>\n",
       "      <td>       STEINBERG</td>\n",
       "      <td>  1350</td>\n",
       "    </tr>\n",
       "    <tr>\n",
       "      <th>5  </th>\n",
       "      <td>                ALAN</td>\n",
       "      <td>        CRAWFORD</td>\n",
       "      <td>   100</td>\n",
       "    </tr>\n",
       "    <tr>\n",
       "      <th>6  </th>\n",
       "      <td>                ALAN</td>\n",
       "      <td>           MOORE</td>\n",
       "      <td>   100</td>\n",
       "    </tr>\n",
       "    <tr>\n",
       "      <th>7  </th>\n",
       "      <td>                ALAN</td>\n",
       "      <td>        SAUNDERS</td>\n",
       "      <td>   100</td>\n",
       "    </tr>\n",
       "    <tr>\n",
       "      <th>8  </th>\n",
       "      <td>                ALAN</td>\n",
       "      <td>          SPARER</td>\n",
       "      <td>   250</td>\n",
       "    </tr>\n",
       "    <tr>\n",
       "      <th>9  </th>\n",
       "      <td>                ALEC</td>\n",
       "      <td>           DIXON</td>\n",
       "      <td>   100</td>\n",
       "    </tr>\n",
       "    <tr>\n",
       "      <th>10 </th>\n",
       "      <td>                ALEX</td>\n",
       "      <td>          COOLEY</td>\n",
       "      <td>   100</td>\n",
       "    </tr>\n",
       "    <tr>\n",
       "      <th>11 </th>\n",
       "      <td>                ALEX</td>\n",
       "      <td>        HALPERIN</td>\n",
       "      <td>   100</td>\n",
       "    </tr>\n",
       "    <tr>\n",
       "      <th>12 </th>\n",
       "      <td>           ALEXANDER</td>\n",
       "      <td>         BRAMMER</td>\n",
       "      <td>   250</td>\n",
       "    </tr>\n",
       "    <tr>\n",
       "      <th>13 </th>\n",
       "      <td>              ALISON</td>\n",
       "      <td>           ETTEL</td>\n",
       "      <td>   100</td>\n",
       "    </tr>\n",
       "    <tr>\n",
       "      <th>14 </th>\n",
       "      <td>              AMANDA</td>\n",
       "      <td>          CONLEY</td>\n",
       "      <td>   100</td>\n",
       "    </tr>\n",
       "    <tr>\n",
       "      <th>15 </th>\n",
       "      <td>              AMANDA</td>\n",
       "      <td>           LEWIS</td>\n",
       "      <td>   100</td>\n",
       "    </tr>\n",
       "    <tr>\n",
       "      <th>16 </th>\n",
       "      <td>          AMIRGHASEM</td>\n",
       "      <td> SAMIMI-ARDESTAN</td>\n",
       "      <td>     0</td>\n",
       "    </tr>\n",
       "    <tr>\n",
       "      <th>17 </th>\n",
       "      <td>                 AMY</td>\n",
       "      <td>        MARGOLIS</td>\n",
       "      <td>   200</td>\n",
       "    </tr>\n",
       "    <tr>\n",
       "      <th>18 </th>\n",
       "      <td>                 AMY</td>\n",
       "      <td>        POINSETT</td>\n",
       "      <td>   250</td>\n",
       "    </tr>\n",
       "    <tr>\n",
       "      <th>19 </th>\n",
       "      <td>              ANDREA</td>\n",
       "      <td>          FULTON</td>\n",
       "      <td>   100</td>\n",
       "    </tr>\n",
       "    <tr>\n",
       "      <th>20 </th>\n",
       "      <td>              ANDREW</td>\n",
       "      <td>          GRZYWA</td>\n",
       "      <td>   500</td>\n",
       "    </tr>\n",
       "    <tr>\n",
       "      <th>21 </th>\n",
       "      <td>              ANDREW</td>\n",
       "      <td>           LOGAN</td>\n",
       "      <td>   500</td>\n",
       "    </tr>\n",
       "    <tr>\n",
       "      <th>22 </th>\n",
       "      <td>              ANDREW</td>\n",
       "      <td>          SCHWAB</td>\n",
       "      <td>   500</td>\n",
       "    </tr>\n",
       "    <tr>\n",
       "      <th>23 </th>\n",
       "      <td>              ANGELA</td>\n",
       "      <td>          HOWARD</td>\n",
       "      <td> 65000</td>\n",
       "    </tr>\n",
       "    <tr>\n",
       "      <th>24 </th>\n",
       "      <td>                ANNA</td>\n",
       "      <td>      GANDELMANN</td>\n",
       "      <td>   100</td>\n",
       "    </tr>\n",
       "    <tr>\n",
       "      <th>25 </th>\n",
       "      <td>             ANNETTE</td>\n",
       "      <td>           CAYOT</td>\n",
       "      <td>   200</td>\n",
       "    </tr>\n",
       "    <tr>\n",
       "      <th>26 </th>\n",
       "      <td>             ANTHONY</td>\n",
       "      <td>       BOCANEGRA</td>\n",
       "      <td>   300</td>\n",
       "    </tr>\n",
       "    <tr>\n",
       "      <th>27 </th>\n",
       "      <td>               ANTON</td>\n",
       "      <td>         ALBRAND</td>\n",
       "      <td>  1100</td>\n",
       "    </tr>\n",
       "    <tr>\n",
       "      <th>28 </th>\n",
       "      <td>              ASHLEE</td>\n",
       "      <td>        MARGOLIS</td>\n",
       "      <td>  1000</td>\n",
       "    </tr>\n",
       "    <tr>\n",
       "      <th>29 </th>\n",
       "      <td>          BARBARA S.</td>\n",
       "      <td>          LEICHT</td>\n",
       "      <td>   100</td>\n",
       "    </tr>\n",
       "    <tr>\n",
       "      <th>...</th>\n",
       "      <td>...</td>\n",
       "      <td>...</td>\n",
       "      <td>...</td>\n",
       "    </tr>\n",
       "    <tr>\n",
       "      <th>519</th>\n",
       "      <td>           THOMAS J.</td>\n",
       "      <td>          REIMAN</td>\n",
       "      <td>  2500</td>\n",
       "    </tr>\n",
       "    <tr>\n",
       "      <th>520</th>\n",
       "      <td>                 TIM</td>\n",
       "      <td>          ROEGGE</td>\n",
       "      <td>   200</td>\n",
       "    </tr>\n",
       "    <tr>\n",
       "      <th>521</th>\n",
       "      <td>             TIMOTHY</td>\n",
       "      <td>            HAND</td>\n",
       "      <td>   100</td>\n",
       "    </tr>\n",
       "    <tr>\n",
       "      <th>522</th>\n",
       "      <td>                TODD</td>\n",
       "      <td>       WALTEMADE</td>\n",
       "      <td>   100</td>\n",
       "    </tr>\n",
       "    <tr>\n",
       "      <th>523</th>\n",
       "      <td>                TODD</td>\n",
       "      <td>          WINTER</td>\n",
       "      <td>   100</td>\n",
       "    </tr>\n",
       "    <tr>\n",
       "      <th>524</th>\n",
       "      <td>                TONY</td>\n",
       "      <td>          KARIAN</td>\n",
       "      <td>   500</td>\n",
       "    </tr>\n",
       "    <tr>\n",
       "      <th>525</th>\n",
       "      <td>               TRACY</td>\n",
       "      <td>         WEISMAN</td>\n",
       "      <td>   500</td>\n",
       "    </tr>\n",
       "    <tr>\n",
       "      <th>526</th>\n",
       "      <td>           TRAVIS W.</td>\n",
       "      <td>         TRAWICK</td>\n",
       "      <td>  1000</td>\n",
       "    </tr>\n",
       "    <tr>\n",
       "      <th>527</th>\n",
       "      <td>                TROY</td>\n",
       "      <td>         PARROTT</td>\n",
       "      <td>   100</td>\n",
       "    </tr>\n",
       "    <tr>\n",
       "      <th>528</th>\n",
       "      <td>              VICKIE</td>\n",
       "      <td>      CARDELLINI</td>\n",
       "      <td>   100</td>\n",
       "    </tr>\n",
       "    <tr>\n",
       "      <th>529</th>\n",
       "      <td>           VICTOR J.</td>\n",
       "      <td>           LEWIS</td>\n",
       "      <td>   100</td>\n",
       "    </tr>\n",
       "    <tr>\n",
       "      <th>530</th>\n",
       "      <td>             VINCENT</td>\n",
       "      <td>       D'ACCOLTI</td>\n",
       "      <td>   100</td>\n",
       "    </tr>\n",
       "    <tr>\n",
       "      <th>531</th>\n",
       "      <td>              VITALY</td>\n",
       "      <td>            MEKK</td>\n",
       "      <td>   100</td>\n",
       "    </tr>\n",
       "    <tr>\n",
       "      <th>532</th>\n",
       "      <td>              WALTER</td>\n",
       "      <td>         LAMBETH</td>\n",
       "      <td>   100</td>\n",
       "    </tr>\n",
       "    <tr>\n",
       "      <th>533</th>\n",
       "      <td>               WAYNE</td>\n",
       "      <td>         SCHERER</td>\n",
       "      <td>    30</td>\n",
       "    </tr>\n",
       "    <tr>\n",
       "      <th>534</th>\n",
       "      <td>               WENDY</td>\n",
       "      <td>          COLTON</td>\n",
       "      <td>    50</td>\n",
       "    </tr>\n",
       "    <tr>\n",
       "      <th>535</th>\n",
       "      <td> WHITNEY ANNE MINSON</td>\n",
       "      <td>          YAROSH</td>\n",
       "      <td>  1000</td>\n",
       "    </tr>\n",
       "    <tr>\n",
       "      <th>536</th>\n",
       "      <td>                WILL</td>\n",
       "      <td>        RISSEEUW</td>\n",
       "      <td>   200</td>\n",
       "    </tr>\n",
       "    <tr>\n",
       "      <th>537</th>\n",
       "      <td>             WILLIAM</td>\n",
       "      <td>          MADDEN</td>\n",
       "      <td>   100</td>\n",
       "    </tr>\n",
       "    <tr>\n",
       "      <th>538</th>\n",
       "      <td>             WILLIAM</td>\n",
       "      <td>          MCPIKE</td>\n",
       "      <td>   100</td>\n",
       "    </tr>\n",
       "    <tr>\n",
       "      <th>539</th>\n",
       "      <td>             WILLIAM</td>\n",
       "      <td>        PLETCHER</td>\n",
       "      <td>   100</td>\n",
       "    </tr>\n",
       "    <tr>\n",
       "      <th>540</th>\n",
       "      <td>             WILLIAM</td>\n",
       "      <td>        SANTSCHI</td>\n",
       "      <td>    25</td>\n",
       "    </tr>\n",
       "    <tr>\n",
       "      <th>541</th>\n",
       "      <td>             WILLIAM</td>\n",
       "      <td>         WINTERS</td>\n",
       "      <td>   200</td>\n",
       "    </tr>\n",
       "    <tr>\n",
       "      <th>542</th>\n",
       "      <td>          WILLIAM F.</td>\n",
       "      <td>        HARRISON</td>\n",
       "      <td>   400</td>\n",
       "    </tr>\n",
       "    <tr>\n",
       "      <th>543</th>\n",
       "      <td>          WILLIAM H.</td>\n",
       "      <td>         WELLMAN</td>\n",
       "      <td>   650</td>\n",
       "    </tr>\n",
       "    <tr>\n",
       "      <th>544</th>\n",
       "      <td>              WILSON</td>\n",
       "      <td>          MURRAY</td>\n",
       "      <td>   100</td>\n",
       "    </tr>\n",
       "    <tr>\n",
       "      <th>545</th>\n",
       "      <td>            XIANGANG</td>\n",
       "      <td>             SHI</td>\n",
       "      <td>   100</td>\n",
       "    </tr>\n",
       "    <tr>\n",
       "      <th>546</th>\n",
       "      <td>              YVETTE</td>\n",
       "      <td>           SMITH</td>\n",
       "      <td>   200</td>\n",
       "    </tr>\n",
       "    <tr>\n",
       "      <th>547</th>\n",
       "      <td>                ZACH</td>\n",
       "      <td>       MARVURGER</td>\n",
       "      <td>   300</td>\n",
       "    </tr>\n",
       "    <tr>\n",
       "      <th>548</th>\n",
       "      <td>         ZACHARY PYM</td>\n",
       "      <td>        WILLIAMS</td>\n",
       "      <td> 10000</td>\n",
       "    </tr>\n",
       "  </tbody>\n",
       "</table>\n",
       "<p>549 rows × 3 columns</p>\n",
       "</div>"
      ],
      "text/plain": [
       "    contributor_firstname contributor_lastname  amount\n",
       "0                   AARON               JUSTIS     250\n",
       "1                   ABDUL                AHMED     200\n",
       "2                    ADAM                ELLIS     100\n",
       "3                    ADAM                ORENS     100\n",
       "4                    ADAM            STEINBERG    1350\n",
       "5                    ALAN             CRAWFORD     100\n",
       "6                    ALAN                MOORE     100\n",
       "7                    ALAN             SAUNDERS     100\n",
       "8                    ALAN               SPARER     250\n",
       "9                    ALEC                DIXON     100\n",
       "10                   ALEX               COOLEY     100\n",
       "11                   ALEX             HALPERIN     100\n",
       "12              ALEXANDER              BRAMMER     250\n",
       "13                 ALISON                ETTEL     100\n",
       "14                 AMANDA               CONLEY     100\n",
       "15                 AMANDA                LEWIS     100\n",
       "16             AMIRGHASEM      SAMIMI-ARDESTAN       0\n",
       "17                    AMY             MARGOLIS     200\n",
       "18                    AMY             POINSETT     250\n",
       "19                 ANDREA               FULTON     100\n",
       "20                 ANDREW               GRZYWA     500\n",
       "21                 ANDREW                LOGAN     500\n",
       "22                 ANDREW               SCHWAB     500\n",
       "23                 ANGELA               HOWARD   65000\n",
       "24                   ANNA           GANDELMANN     100\n",
       "25                ANNETTE                CAYOT     200\n",
       "26                ANTHONY            BOCANEGRA     300\n",
       "27                  ANTON              ALBRAND    1100\n",
       "28                 ASHLEE             MARGOLIS    1000\n",
       "29             BARBARA S.               LEICHT     100\n",
       "..                    ...                  ...     ...\n",
       "519             THOMAS J.               REIMAN    2500\n",
       "520                   TIM               ROEGGE     200\n",
       "521               TIMOTHY                 HAND     100\n",
       "522                  TODD            WALTEMADE     100\n",
       "523                  TODD               WINTER     100\n",
       "524                  TONY               KARIAN     500\n",
       "525                 TRACY              WEISMAN     500\n",
       "526             TRAVIS W.              TRAWICK    1000\n",
       "527                  TROY              PARROTT     100\n",
       "528                VICKIE           CARDELLINI     100\n",
       "529             VICTOR J.                LEWIS     100\n",
       "530               VINCENT            D'ACCOLTI     100\n",
       "531                VITALY                 MEKK     100\n",
       "532                WALTER              LAMBETH     100\n",
       "533                 WAYNE              SCHERER      30\n",
       "534                 WENDY               COLTON      50\n",
       "535   WHITNEY ANNE MINSON               YAROSH    1000\n",
       "536                  WILL             RISSEEUW     200\n",
       "537               WILLIAM               MADDEN     100\n",
       "538               WILLIAM               MCPIKE     100\n",
       "539               WILLIAM             PLETCHER     100\n",
       "540               WILLIAM             SANTSCHI      25\n",
       "541               WILLIAM              WINTERS     200\n",
       "542            WILLIAM F.             HARRISON     400\n",
       "543            WILLIAM H.              WELLMAN     650\n",
       "544                WILSON               MURRAY     100\n",
       "545              XIANGANG                  SHI     100\n",
       "546                YVETTE                SMITH     200\n",
       "547                  ZACH            MARVURGER     300\n",
       "548           ZACHARY PYM             WILLIAMS   10000\n",
       "\n",
       "[549 rows x 3 columns]"
      ]
     },
     "execution_count": 160,
     "metadata": {},
     "output_type": "execute_result"
    }
   ],
   "source": [
    "merged.groupby([\"contributor_firstname\", \"contributor_lastname\"]).amount.sum().reset_index()"
   ]
  },
  {
   "cell_type": "code",
   "execution_count": null,
   "metadata": {
    "collapsed": true
   },
   "outputs": [],
   "source": []
  }
 ],
 "metadata": {
  "anaconda-cloud": {},
  "kernelspec": {
   "display_name": "Python [conda root]",
   "language": "python",
   "name": "conda-root-py"
  },
  "language_info": {
   "codemirror_mode": {
    "name": "ipython",
    "version": 2
   },
   "file_extension": ".py",
   "mimetype": "text/x-python",
   "name": "python",
   "nbconvert_exporter": "python",
   "pygments_lexer": "ipython2",
   "version": "2.7.13"
  }
 },
 "nbformat": 4,
 "nbformat_minor": 2
}
